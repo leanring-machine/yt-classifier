{
  "nbformat": 4,
  "nbformat_minor": 0,
  "metadata": {
    "colab": {
      "provenance": []
    },
    "kernelspec": {
      "name": "python3",
      "display_name": "Python 3"
    },
    "language_info": {
      "name": "python"
    }
  },
  "cells": [
    {
      "cell_type": "markdown",
      "source": [
        "# KNN"
      ],
      "metadata": {
        "id": "JhK-ySNnIXPn"
      }
    },
    {
      "cell_type": "code",
      "execution_count": null,
      "metadata": {
        "id": "e84dyoljIBn7"
      },
      "outputs": [],
      "source": [
        "from google.colab import drive\n",
        "drive.mount('/content/drive')"
      ]
    },
    {
      "cell_type": "code",
      "source": [
        "!unzip -qq \"/content/drive/MyDrive/thumbnail.zip\""
      ],
      "metadata": {
        "id": "5ANJ_0qRIEA9"
      },
      "execution_count": null,
      "outputs": []
    },
    {
      "cell_type": "code",
      "source": [
        "import tensorflow as tf\n",
        "\n",
        "# GPU 디바이스 목록 가져오기\n",
        "gpus = tf.config.list_physical_devices('GPU')\n",
        "if gpus:\n",
        "    # GPU가 존재하는 경우\n",
        "    for gpu in gpus:\n",
        "        print(\"GPU가 감지되었습니다:\", gpu)\n",
        "else:\n",
        "    print(\"GPU를 찾을 수 없습니다. CPU를 사용합니다.\")"
      ],
      "metadata": {
        "id": "JzG5vzLLIFi9"
      },
      "execution_count": null,
      "outputs": []
    },
    {
      "cell_type": "code",
      "source": [
        "import os\n",
        "import numpy as np\n",
        "from sklearn.model_selection import train_test_split\n",
        "from sklearn.neighbors import KNeighborsClassifier\n",
        "from sklearn.metrics import accuracy_score\n",
        "import tensorflow as tf\n",
        "\n",
        "# 데이터셋 경로 설정\n",
        "base_dir = './thumbnail'\n",
        "\n",
        "# 클래스 이름 설정 (폴더 번호에 맞게 설정)\n",
        "class_names = sorted(os.listdir(base_dir))\n",
        "\n",
        "# 이미지 사이즈 설정\n",
        "img_height = 320\n",
        "img_width = 180\n",
        "\n",
        "# 데이터셋 생성\n",
        "data = []\n",
        "labels = []\n",
        "for i, class_name in enumerate(class_names):\n",
        "    class_dir = os.path.join(base_dir, class_name)\n",
        "    for img_name in os.listdir(class_dir):\n",
        "        img_path = os.path.join(class_dir, img_name)\n",
        "        img = tf.keras.preprocessing.image.load_img(img_path, target_size=(img_height, img_width))\n",
        "        img_array = tf.keras.preprocessing.image.img_to_array(img)\n",
        "        data.append(img_array.flatten())\n",
        "        labels.append(i)\n",
        "data = np.array(data)\n",
        "labels = np.array(labels)\n",
        "\n",
        "# train set과 test set으로 데이터 분할\n",
        "train_data, test_data, train_labels, test_labels = train_test_split(data, labels, test_size=0.3, random_state=42)\n",
        "\n",
        "# KNN 모델 생성 및 학습\n",
        "knn = KNeighborsClassifier(n_neighbors=5)\n",
        "knn.fit(train_data, train_labels)\n",
        "\n",
        "# 예측 및 평가\n",
        "predictions = knn.predict(test_data)\n",
        "accuracy = accuracy_score(test_labels, predictions)\n",
        "print(\"Test Accuracy:\", accuracy)\n"
      ],
      "metadata": {
        "id": "Y_6B28OXIFek"
      },
      "execution_count": null,
      "outputs": []
    },
    {
      "cell_type": "code",
      "source": [
        "import cv2\n",
        "\n",
        "image_path = '/content/nPwOn5f-IPI.jpg'  # 예측할 이미지 경로\n",
        "image = cv2.imread(image_path)\n",
        "image = cv2.resize(image, (img_width, img_height))\n",
        "image_array = np.array(image).flatten()\n",
        "image_array = np.reshape(image_array, (1, -1))  # 이미지를 2차원 배열로 변환\n",
        "prediction = knn.predict(image_array)\n",
        "predicted_class = class_names[prediction[0]]\n",
        "\n",
        "print(\"Predicted Class:\", predicted_class)\n"
      ],
      "metadata": {
        "id": "HaJC8yMBILMQ"
      },
      "execution_count": null,
      "outputs": []
    }
  ]
}